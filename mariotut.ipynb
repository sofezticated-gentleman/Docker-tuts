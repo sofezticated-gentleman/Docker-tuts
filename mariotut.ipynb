{
  "nbformat": 4,
  "nbformat_minor": 0,
  "metadata": {
    "colab": {
      "provenance": [],
      "authorship_tag": "ABX9TyNvWv2WJ/SP3CqZJXnFkzH1",
      "include_colab_link": true
    },
    "kernelspec": {
      "name": "python3",
      "display_name": "Python 3"
    },
    "language_info": {
      "name": "python"
    }
  },
  "cells": [
    {
      "cell_type": "markdown",
      "metadata": {
        "id": "view-in-github",
        "colab_type": "text"
      },
      "source": [
        "<a href=\"https://colab.research.google.com/github/yashgosa/my_ml_projects/blob/main/mariotut.ipynb\" target=\"_parent\"><img src=\"https://colab.research.google.com/assets/colab-badge.svg\" alt=\"Open In Colab\"/></a>"
      ]
    },
    {
      "cell_type": "code",
      "source": [
        "from google.colab import drive\n",
        "drive.mount('/content/drive')"
      ],
      "metadata": {
        "id": "X1KjXgyf6nk-"
      },
      "execution_count": null,
      "outputs": []
    },
    {
      "cell_type": "code",
      "source": [
        "!pip install gym-super-mario-bros"
      ],
      "metadata": {
        "id": "NhNN86P14aGz"
      },
      "execution_count": null,
      "outputs": []
    },
    {
      "cell_type": "code",
      "source": [
        "!pip install nespy"
      ],
      "metadata": {
        "id": "m2jSuPMh4aOB"
      },
      "execution_count": null,
      "outputs": []
    },
    {
      "cell_type": "code",
      "source": [
        "!pip install nes_py"
      ],
      "metadata": {
        "id": "rGr6kTbP5sru"
      },
      "execution_count": null,
      "outputs": []
    },
    {
      "cell_type": "markdown",
      "source": [
        "#TIP: \n",
        "WHENEVER I AM TRYING TO AUTOMATE A GAME TRY TO AIMPLIFY THE ENVOIRMENT MAKING IT COMPUTATIONALLY LIGHTER FOR THE SYSTEM AND MAKING IT EASY TO BE LEARNED"
      ],
      "metadata": {
        "id": "CtjePC326Qbg"
      }
    },
    {
      "cell_type": "code",
      "source": [
        "#Importing the game\n",
        "import gym_super_mario_bros as gym\n",
        "#Importing the joypad wrapper\n",
        "from nes_py.wrappers import JoypadSpace\n",
        "#Impirt SIMPLIFIED Controls\n",
        "from gym_super_mario_bros.actions import SIMPLE_MOVEMENT"
      ],
      "metadata": {
        "id": "SlqVXzGe4aSu"
      },
      "execution_count": 15,
      "outputs": []
    },
    {
      "cell_type": "code",
      "source": [
        "#setup game\n",
        "env = gym.make(\"SuperMarioBros-v0\")  # v0 is outadated the latest is v3\n",
        "env = JoypadSpace(env, SIMPLE_MOVEMENT)"
      ],
      "metadata": {
        "colab": {
          "base_uri": "https://localhost:8080/",
          "height": 0
        },
        "id": "2L5Wh3Q_6AbQ",
        "outputId": "929282e5-fbe2-4a4c-aa14-a94544f17841"
      },
      "execution_count": 16,
      "outputs": [
        {
          "output_type": "stream",
          "name": "stderr",
          "text": [
            "/usr/local/lib/python3.7/dist-packages/gym/envs/registration.py:594: UserWarning: \u001b[33mWARN: The environment SuperMarioBros-v0 is out of date. You should consider upgrading to version `v3`.\u001b[0m\n",
            "  f\"The environment {id} is out of date. You should consider \"\n"
          ]
        }
      ]
    },
    {
      "cell_type": "code",
      "source": [
        "# a flag for starting the game\n",
        "done = True\n",
        "#Looping through 10000 frames of the game\n",
        "for step in range(10000):\n",
        "  #Check if we are done playing the game\n",
        "  if done:\n",
        "    #Restarts the game to begin with\n",
        "    env.reset()\n",
        "  #Do random actions\n",
        "  state, reward, done, info = env.step(env.action_space.sample())\n",
        "  #Display the game\n",
        "  env.render()\n",
        "#Close the game\n",
        "env.close()"
      ],
      "metadata": {
        "id": "IVwrU0MQ7ip7"
      },
      "execution_count": 18,
      "outputs": []
    },
    {
      "cell_type": "code",
      "source": [],
      "metadata": {
        "id": "aWfGeMye9Ruj"
      },
      "execution_count": null,
      "outputs": []
    },
    {
      "cell_type": "code",
      "source": [],
      "metadata": {
        "id": "JHjjTfAu7_My"
      },
      "execution_count": null,
      "outputs": []
    }
  ]
}